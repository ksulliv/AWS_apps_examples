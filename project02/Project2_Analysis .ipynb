{
 "cells": [
  {
   "cell_type": "markdown",
   "id": "8be86558",
   "metadata": {},
   "source": [
    "# Analysis of IMDB Data"
   ]
  },
  {
   "cell_type": "markdown",
   "id": "1fa861ba",
   "metadata": {},
   "source": [
    "# PART 1 - Installation and Initial Setup"
   ]
  },
  {
   "cell_type": "code",
   "execution_count": 1,
   "id": "5aee7199",
   "metadata": {},
   "outputs": [
    {
     "data": {
      "text/html": [
       "Current session configs: <tt>{'conf': {'spark.pyspark.python': 'python3', 'spark.pyspark.virtualenv.enabled': 'true', 'spark.pyspark.virtualenv.type': 'native', 'spark.pyspark.virtualenv.bin.path': '/usr/bin/virtualenv'}, 'kind': 'pyspark'}</tt><br>"
      ],
      "text/plain": [
       "<IPython.core.display.HTML object>"
      ]
     },
     "metadata": {},
     "output_type": "display_data"
    },
    {
     "data": {
      "text/html": [
       "No active sessions."
      ],
      "text/plain": [
       "<IPython.core.display.HTML object>"
      ]
     },
     "metadata": {},
     "output_type": "display_data"
    }
   ],
   "source": [
    "%%info"
   ]
  },
  {
   "cell_type": "code",
   "execution_count": 2,
   "id": "d43357a1",
   "metadata": {},
   "outputs": [
    {
     "data": {
      "application/vnd.jupyter.widget-view+json": {
       "model_id": "dce53514daf4411ea47dfc6dc090ef62",
       "version_major": 2,
       "version_minor": 0
      },
      "text/plain": [
       "VBox()"
      ]
     },
     "metadata": {},
     "output_type": "display_data"
    },
    {
     "name": "stdout",
     "output_type": "stream",
     "text": [
      "Starting Spark application\n"
     ]
    },
    {
     "data": {
      "text/html": [
       "<table>\n",
       "<tr><th>ID</th><th>YARN Application ID</th><th>Kind</th><th>State</th><th>Spark UI</th><th>Driver log</th><th>Current session?</th></tr><tr><td>0</td><td>application_1670263798496_0001</td><td>pyspark</td><td>idle</td><td><a target=\"_blank\" href=\"http://ip-172-31-33-44.us-east-2.compute.internal:20888/proxy/application_1670263798496_0001/\">Link</a></td><td><a target=\"_blank\" href=\"http://ip-172-31-40-152.us-east-2.compute.internal:8042/node/containerlogs/container_1670263798496_0001_01_000001/livy\">Link</a></td><td>✔</td></tr></table>"
      ],
      "text/plain": [
       "<IPython.core.display.HTML object>"
      ]
     },
     "metadata": {},
     "output_type": "display_data"
    },
    {
     "data": {
      "application/vnd.jupyter.widget-view+json": {
       "model_id": "",
       "version_major": 2,
       "version_minor": 0
      },
      "text/plain": [
       "FloatProgress(value=0.0, bar_style='info', description='Progress:', layout=Layout(height='25px', width='50%'),…"
      ]
     },
     "metadata": {},
     "output_type": "display_data"
    },
    {
     "name": "stdout",
     "output_type": "stream",
     "text": [
      "SparkSession available as 'spark'.\n"
     ]
    },
    {
     "data": {
      "application/vnd.jupyter.widget-view+json": {
       "model_id": "",
       "version_major": 2,
       "version_minor": 0
      },
      "text/plain": [
       "FloatProgress(value=0.0, bar_style='info', description='Progress:', layout=Layout(height='25px', width='50%'),…"
      ]
     },
     "metadata": {},
     "output_type": "display_data"
    },
    {
     "name": "stdout",
     "output_type": "stream",
     "text": [
      "Collecting pandas==1.0.3\n",
      "  Downloading https://files.pythonhosted.org/packages/4a/6a/94b219b8ea0f2d580169e85ed1edc0163743f55aaeca8a44c2e8fc1e344e/pandas-1.0.3-cp37-cp37m-manylinux1_x86_64.whl (10.0MB)\n",
      "Requirement already satisfied: pytz>=2017.2 in /usr/local/lib/python3.7/site-packages (from pandas==1.0.3)\n",
      "Requirement already satisfied: numpy>=1.13.3 in /usr/local/lib64/python3.7/site-packages (from pandas==1.0.3)\n",
      "Collecting python-dateutil>=2.6.1 (from pandas==1.0.3)\n",
      "  Downloading https://files.pythonhosted.org/packages/36/7a/87837f39d0296e723bb9b62bbb257d0355c7f6128853c78955f57342a56d/python_dateutil-2.8.2-py2.py3-none-any.whl (247kB)\n",
      "Requirement already satisfied: six>=1.5 in /usr/local/lib/python3.7/site-packages (from python-dateutil>=2.6.1->pandas==1.0.3)\n",
      "Installing collected packages: python-dateutil, pandas\n",
      "Successfully installed pandas-1.0.3 python-dateutil-2.8.2\n",
      "\n",
      "Collecting matplotlib==3.2.1\n",
      "  Downloading https://files.pythonhosted.org/packages/b2/c2/71fcf957710f3ba1f09088b35776a799ba7dd95f7c2b195ec800933b276b/matplotlib-3.2.1-cp37-cp37m-manylinux1_x86_64.whl (12.4MB)\n",
      "Requirement already satisfied: python-dateutil>=2.1 in /mnt/tmp/1670264767194-0/lib/python3.7/site-packages (from matplotlib==3.2.1)\n",
      "Collecting pyparsing!=2.0.4,!=2.1.2,!=2.1.6,>=2.0.1 (from matplotlib==3.2.1)\n",
      "  Downloading https://files.pythonhosted.org/packages/6c/10/a7d0fa5baea8fe7b50f448ab742f26f52b80bfca85ac2be9d35cdd9a3246/pyparsing-3.0.9-py3-none-any.whl (98kB)\n",
      "Collecting cycler>=0.10 (from matplotlib==3.2.1)\n",
      "  Downloading https://files.pythonhosted.org/packages/5c/f9/695d6bedebd747e5eb0fe8fad57b72fdf25411273a39791cde838d5a8f51/cycler-0.11.0-py3-none-any.whl\n",
      "Requirement already satisfied: numpy>=1.11 in /usr/local/lib64/python3.7/site-packages (from matplotlib==3.2.1)\n",
      "Collecting kiwisolver>=1.0.1 (from matplotlib==3.2.1)\n",
      "  Downloading https://files.pythonhosted.org/packages/ab/8f/8dbe2d4efc4c0b08ec67d6efb7cc31fbfd688c80afad85f65980633b0d37/kiwisolver-1.4.4-cp37-cp37m-manylinux_2_5_x86_64.manylinux1_x86_64.whl (1.1MB)\n",
      "Requirement already satisfied: six>=1.5 in /usr/local/lib/python3.7/site-packages (from python-dateutil>=2.1->matplotlib==3.2.1)\n",
      "Collecting typing-extensions; python_version < \"3.8\" (from kiwisolver>=1.0.1->matplotlib==3.2.1)\n",
      "  Downloading https://files.pythonhosted.org/packages/0b/8e/f1a0a5a76cfef77e1eb6004cb49e5f8d72634da638420b9ea492ce8305e8/typing_extensions-4.4.0-py3-none-any.whl\n",
      "Installing collected packages: pyparsing, cycler, typing-extensions, kiwisolver, matplotlib\n",
      "Successfully installed cycler-0.11.0 kiwisolver-1.4.4 matplotlib-3.2.1 pyparsing-3.0.9 typing-extensions-4.4.0\n",
      "\n",
      "Requirement already satisfied: numpy in /usr/local/lib64/python3.7/site-packages"
     ]
    }
   ],
   "source": [
    "sc.install_pypi_package(\"pandas==1.0.3\")\n",
    "sc.install_pypi_package(\"matplotlib==3.2.1\")\n",
    "sc.install_pypi_package(\"numpy\")"
   ]
  },
  {
   "cell_type": "code",
   "execution_count": 3,
   "id": "d07e6363",
   "metadata": {},
   "outputs": [
    {
     "data": {
      "application/vnd.jupyter.widget-view+json": {
       "model_id": "e11481c406b84815927a045db6526555",
       "version_major": 2,
       "version_minor": 0
      },
      "text/plain": [
       "VBox()"
      ]
     },
     "metadata": {},
     "output_type": "display_data"
    },
    {
     "data": {
      "application/vnd.jupyter.widget-view+json": {
       "model_id": "",
       "version_major": 2,
       "version_minor": 0
      },
      "text/plain": [
       "FloatProgress(value=0.0, bar_style='info', description='Progress:', layout=Layout(height='25px', width='50%'),…"
      ]
     },
     "metadata": {},
     "output_type": "display_data"
    }
   ],
   "source": [
    "import pandas as pd\n",
    "import numpy as np\n",
    "import matplotlib.pyplot as plt"
   ]
  },
  {
   "cell_type": "markdown",
   "id": "1fcb5cd6",
   "metadata": {},
   "source": [
    "# Loading Data"
   ]
  },
  {
   "cell_type": "code",
   "execution_count": 4,
   "id": "199eaaf0",
   "metadata": {},
   "outputs": [
    {
     "data": {
      "application/vnd.jupyter.widget-view+json": {
       "model_id": "612a35f3674c4d7c8f1748249235fe39",
       "version_major": 2,
       "version_minor": 0
      },
      "text/plain": [
       "VBox()"
      ]
     },
     "metadata": {},
     "output_type": "display_data"
    },
    {
     "data": {
      "application/vnd.jupyter.widget-view+json": {
       "model_id": "",
       "version_major": 2,
       "version_minor": 0
      },
      "text/plain": [
       "FloatProgress(value=0.0, bar_style='info', description='Progress:', layout=Layout(height='25px', width='50%'),…"
      ]
     },
     "metadata": {},
     "output_type": "display_data"
    }
   ],
   "source": [
    "# The data comes from https://www.kaggle.com/datasets/ashirwadsangwan/imdb-dataset\n",
    "actors = spark.read.csv('s3://cis9760-lecture9-movieanalysis/name.basics.tsv', sep=r'\\t', header=True)\n",
    "genres = spark.read.csv('s3://cis9760-lecture9-movieanalysis/title.basics.tsv', sep=r'\\t', header=True)\n",
    "movie_actors = spark.read.csv('s3://cis9760-lecture9-movieanalysis/title.principals.tsv', sep=r'\\t', header=True)\n",
    "movie_ratings = spark.read.csv('s3://cis9760-lecture9-movieanalysis/title.ratings.tsv', sep=r'\\t', header=True)"
   ]
  },
  {
   "cell_type": "markdown",
   "id": "922e6360",
   "metadata": {},
   "source": [
    "# Actors"
   ]
  },
  {
   "cell_type": "code",
   "execution_count": 5,
   "id": "6500535b",
   "metadata": {
    "scrolled": true
   },
   "outputs": [
    {
     "data": {
      "application/vnd.jupyter.widget-view+json": {
       "model_id": "e7ea7ccee07b44fb90052478eea033b6",
       "version_major": 2,
       "version_minor": 0
      },
      "text/plain": [
       "VBox()"
      ]
     },
     "metadata": {},
     "output_type": "display_data"
    },
    {
     "data": {
      "application/vnd.jupyter.widget-view+json": {
       "model_id": "",
       "version_major": 2,
       "version_minor": 0
      },
      "text/plain": [
       "FloatProgress(value=0.0, bar_style='info', description='Progress:', layout=Layout(height='25px', width='50%'),…"
      ]
     },
     "metadata": {},
     "output_type": "display_data"
    },
    {
     "name": "stdout",
     "output_type": "stream",
     "text": [
      "root\n",
      " |-- nconst: string (nullable = true)\n",
      " |-- primaryName: string (nullable = true)\n",
      " |-- birthYear: string (nullable = true)\n",
      " |-- deathYear: string (nullable = true)\n",
      " |-- primaryProfession: string (nullable = true)\n",
      " |-- knownForTitles: string (nullable = true)"
     ]
    }
   ],
   "source": [
    "actors.printSchema()"
   ]
  },
  {
   "cell_type": "code",
   "execution_count": 11,
   "id": "dc9d0729",
   "metadata": {},
   "outputs": [
    {
     "data": {
      "application/vnd.jupyter.widget-view+json": {
       "model_id": "109619d221aa4c7b82d1d238d0eddcd8",
       "version_major": 2,
       "version_minor": 0
      },
      "text/plain": [
       "VBox()"
      ]
     },
     "metadata": {},
     "output_type": "display_data"
    },
    {
     "data": {
      "application/vnd.jupyter.widget-view+json": {
       "model_id": "",
       "version_major": 2,
       "version_minor": 0
      },
      "text/plain": [
       "FloatProgress(value=0.0, bar_style='info', description='Progress:', layout=Layout(height='25px', width='50%'),…"
      ]
     },
     "metadata": {},
     "output_type": "display_data"
    },
    {
     "name": "stdout",
     "output_type": "stream",
     "text": [
      "+---------------+---------+---------+--------------------+\n",
      "|    primaryName|birthYear|deathYear|      knownForTitles|\n",
      "+---------------+---------+---------+--------------------+\n",
      "|   Fred Astaire|     1899|     1987|tt0050419,tt00531...|\n",
      "|  Lauren Bacall|     1924|     2014|tt0071877,tt01170...|\n",
      "|Brigitte Bardot|     1934|       \\N|tt0054452,tt00491...|\n",
      "|   John Belushi|     1949|     1982|tt0077975,tt00725...|\n",
      "| Ingmar Bergman|     1918|     2007|tt0069467,tt00509...|\n",
      "+---------------+---------+---------+--------------------+\n",
      "only showing top 5 rows"
     ]
    }
   ],
   "source": [
    "actors.createOrReplaceTempView('Actors')\n",
    "sqldf = spark.sql(\n",
    "\" SELECT primaryName, birthYear, deathYear, knownForTitles FROM Actors\"\n",
    ").show(5)"
   ]
  },
  {
   "cell_type": "markdown",
   "id": "f7c85e8c",
   "metadata": {},
   "source": [
    "# Genres"
   ]
  },
  {
   "cell_type": "code",
   "execution_count": 12,
   "id": "235c3308",
   "metadata": {},
   "outputs": [
    {
     "data": {
      "application/vnd.jupyter.widget-view+json": {
       "model_id": "df1c7e4d907f486c9720b735872cf790",
       "version_major": 2,
       "version_minor": 0
      },
      "text/plain": [
       "VBox()"
      ]
     },
     "metadata": {},
     "output_type": "display_data"
    },
    {
     "data": {
      "application/vnd.jupyter.widget-view+json": {
       "model_id": "",
       "version_major": 2,
       "version_minor": 0
      },
      "text/plain": [
       "FloatProgress(value=0.0, bar_style='info', description='Progress:', layout=Layout(height='25px', width='50%'),…"
      ]
     },
     "metadata": {},
     "output_type": "display_data"
    },
    {
     "name": "stdout",
     "output_type": "stream",
     "text": [
      "+---------+--------------------+--------------------+\n",
      "|titleType|        primaryTitle|              genres|\n",
      "+---------+--------------------+--------------------+\n",
      "|    short|          Carmencita|   Documentary,Short|\n",
      "|    short|Le clown et ses c...|     Animation,Short|\n",
      "|    short|      Pauvre Pierrot|Animation,Comedy,...|\n",
      "|    short|         Un bon bock|     Animation,Short|\n",
      "|    short|    Blacksmith Scene|        Comedy,Short|\n",
      "|    short|   Chinese Opium Den|               Short|\n",
      "|    short|Corbett and Court...|         Short,Sport|\n",
      "|    short|Edison Kinetoscop...|   Documentary,Short|\n",
      "|    movie|          Miss Jerry|             Romance|\n",
      "|    short| Exiting the Factory|   Documentary,Short|\n",
      "+---------+--------------------+--------------------+\n",
      "only showing top 10 rows"
     ]
    }
   ],
   "source": [
    "genres.createOrReplaceTempView('Genres')\n",
    "sqldf = spark.sql(\n",
    "\"SELECT titleType, primaryTitle, genres FROM Genres\").show(10)"
   ]
  },
  {
   "cell_type": "code",
   "execution_count": 13,
   "id": "baaa07ec",
   "metadata": {},
   "outputs": [
    {
     "data": {
      "application/vnd.jupyter.widget-view+json": {
       "model_id": "084b5f1960ce4f3db0991ea6cd95f914",
       "version_major": 2,
       "version_minor": 0
      },
      "text/plain": [
       "VBox()"
      ]
     },
     "metadata": {},
     "output_type": "display_data"
    },
    {
     "data": {
      "application/vnd.jupyter.widget-view+json": {
       "model_id": "",
       "version_major": 2,
       "version_minor": 0
      },
      "text/plain": [
       "FloatProgress(value=0.0, bar_style='info', description='Progress:', layout=Layout(height='25px', width='50%'),…"
      ]
     },
     "metadata": {},
     "output_type": "display_data"
    },
    {
     "name": "stdout",
     "output_type": "stream",
     "text": [
      "+------------+\n",
      "|   titleType|\n",
      "+------------+\n",
      "|    tvSeries|\n",
      "|tvMiniSeries|\n",
      "|       movie|\n",
      "|   videoGame|\n",
      "|   tvSpecial|\n",
      "|       video|\n",
      "|     tvMovie|\n",
      "|   tvEpisode|\n",
      "|     tvShort|\n",
      "|       short|\n",
      "+------------+"
     ]
    }
   ],
   "source": [
    "genres.createOrReplaceTempView('Genres')\n",
    "sqldf = spark.sql(\n",
    "\"SELECT DISTINCT titleType FROM Genres\").show()"
   ]
  },
  {
   "cell_type": "code",
   "execution_count": 14,
   "id": "940c6b88",
   "metadata": {},
   "outputs": [
    {
     "data": {
      "application/vnd.jupyter.widget-view+json": {
       "model_id": "0e9e72c342b74c3eadca6af3df4786fd",
       "version_major": 2,
       "version_minor": 0
      },
      "text/plain": [
       "VBox()"
      ]
     },
     "metadata": {},
     "output_type": "display_data"
    },
    {
     "data": {
      "application/vnd.jupyter.widget-view+json": {
       "model_id": "",
       "version_major": 2,
       "version_minor": 0
      },
      "text/plain": [
       "FloatProgress(value=0.0, bar_style='info', description='Progress:', layout=Layout(height='25px', width='50%'),…"
      ]
     },
     "metadata": {},
     "output_type": "display_data"
    },
    {
     "name": "stdout",
     "output_type": "stream",
     "text": [
      "root\n",
      " |-- tconst: string (nullable = true)\n",
      " |-- titleType: string (nullable = true)\n",
      " |-- primaryTitle: string (nullable = true)\n",
      " |-- originalTitle: string (nullable = true)\n",
      " |-- isAdult: string (nullable = true)\n",
      " |-- startYear: string (nullable = true)\n",
      " |-- endYear: string (nullable = true)\n",
      " |-- runtimeMinutes: string (nullable = true)\n",
      " |-- genres: string (nullable = true)"
     ]
    }
   ],
   "source": [
    "genres.printSchema()"
   ]
  },
  {
   "cell_type": "markdown",
   "id": "01bb5dfb",
   "metadata": {},
   "source": [
    "# Movie Actors"
   ]
  },
  {
   "cell_type": "code",
   "execution_count": 15,
   "id": "e77069ff",
   "metadata": {},
   "outputs": [
    {
     "data": {
      "application/vnd.jupyter.widget-view+json": {
       "model_id": "43542306df62427bb75fd2ed4d5dbb1f",
       "version_major": 2,
       "version_minor": 0
      },
      "text/plain": [
       "VBox()"
      ]
     },
     "metadata": {},
     "output_type": "display_data"
    },
    {
     "data": {
      "application/vnd.jupyter.widget-view+json": {
       "model_id": "",
       "version_major": 2,
       "version_minor": 0
      },
      "text/plain": [
       "FloatProgress(value=0.0, bar_style='info', description='Progress:', layout=Layout(height='25px', width='50%'),…"
      ]
     },
     "metadata": {},
     "output_type": "display_data"
    },
    {
     "name": "stdout",
     "output_type": "stream",
     "text": [
      "root\n",
      " |-- tconst: string (nullable = true)\n",
      " |-- ordering: string (nullable = true)\n",
      " |-- nconst: string (nullable = true)\n",
      " |-- category: string (nullable = true)\n",
      " |-- job: string (nullable = true)\n",
      " |-- characters: string (nullable = true)"
     ]
    }
   ],
   "source": [
    "movie_actors.printSchema()"
   ]
  },
  {
   "cell_type": "code",
   "execution_count": 16,
   "id": "8d3817c4",
   "metadata": {},
   "outputs": [
    {
     "data": {
      "application/vnd.jupyter.widget-view+json": {
       "model_id": "8cafb9bc585f4782b59eddc4b99e56e0",
       "version_major": 2,
       "version_minor": 0
      },
      "text/plain": [
       "VBox()"
      ]
     },
     "metadata": {},
     "output_type": "display_data"
    },
    {
     "data": {
      "application/vnd.jupyter.widget-view+json": {
       "model_id": "",
       "version_major": 2,
       "version_minor": 0
      },
      "text/plain": [
       "FloatProgress(value=0.0, bar_style='info', description='Progress:', layout=Layout(height='25px', width='50%'),…"
      ]
     },
     "metadata": {},
     "output_type": "display_data"
    },
    {
     "name": "stdout",
     "output_type": "stream",
     "text": [
      "+---------+--------+---------+---------------+--------------------+-----------+\n",
      "|   tconst|ordering|   nconst|       category|                 job| characters|\n",
      "+---------+--------+---------+---------------+--------------------+-----------+\n",
      "|tt0000001|       1|nm1588970|           self|                  \\N|[\"Herself\"]|\n",
      "|tt0000001|       2|nm0005690|       director|                  \\N|         \\N|\n",
      "|tt0000001|       3|nm0374658|cinematographer|director of photo...|         \\N|\n",
      "|tt0000002|       1|nm0721526|       director|                  \\N|         \\N|\n",
      "|tt0000002|       2|nm1335271|       composer|                  \\N|         \\N|\n",
      "|tt0000003|       1|nm0721526|       director|                  \\N|         \\N|\n",
      "|tt0000003|       2|nm5442194|       producer|            producer|         \\N|\n",
      "|tt0000003|       3|nm1335271|       composer|                  \\N|         \\N|\n",
      "|tt0000003|       4|nm5442200|         editor|                  \\N|         \\N|\n",
      "|tt0000004|       1|nm0721526|       director|                  \\N|         \\N|\n",
      "+---------+--------+---------+---------------+--------------------+-----------+\n",
      "only showing top 10 rows"
     ]
    }
   ],
   "source": [
    "movie_actors.createOrReplaceTempView('Movie_Actors')\n",
    "sqldf = spark.sql(\n",
    "\"SELECT * FROM Movie_Actors\").show(10)"
   ]
  },
  {
   "cell_type": "markdown",
   "id": "3b844299",
   "metadata": {},
   "source": [
    "# Movie Ratings"
   ]
  },
  {
   "cell_type": "code",
   "execution_count": 18,
   "id": "7d95f892",
   "metadata": {},
   "outputs": [
    {
     "data": {
      "application/vnd.jupyter.widget-view+json": {
       "model_id": "a6885de27f6149dea6803bb40e088b37",
       "version_major": 2,
       "version_minor": 0
      },
      "text/plain": [
       "VBox()"
      ]
     },
     "metadata": {},
     "output_type": "display_data"
    },
    {
     "data": {
      "application/vnd.jupyter.widget-view+json": {
       "model_id": "",
       "version_major": 2,
       "version_minor": 0
      },
      "text/plain": [
       "FloatProgress(value=0.0, bar_style='info', description='Progress:', layout=Layout(height='25px', width='50%'),…"
      ]
     },
     "metadata": {},
     "output_type": "display_data"
    },
    {
     "name": "stdout",
     "output_type": "stream",
     "text": [
      "root\n",
      " |-- tconst: string (nullable = true)\n",
      " |-- averageRating: string (nullable = true)\n",
      " |-- numVotes: string (nullable = true)"
     ]
    }
   ],
   "source": [
    "movie_ratings.printSchema()"
   ]
  },
  {
   "cell_type": "code",
   "execution_count": 17,
   "id": "71bb46b1",
   "metadata": {},
   "outputs": [
    {
     "data": {
      "application/vnd.jupyter.widget-view+json": {
       "model_id": "cc9bc9cdb4b34e20922a1bb3006b014a",
       "version_major": 2,
       "version_minor": 0
      },
      "text/plain": [
       "VBox()"
      ]
     },
     "metadata": {},
     "output_type": "display_data"
    },
    {
     "data": {
      "application/vnd.jupyter.widget-view+json": {
       "model_id": "",
       "version_major": 2,
       "version_minor": 0
      },
      "text/plain": [
       "FloatProgress(value=0.0, bar_style='info', description='Progress:', layout=Layout(height='25px', width='50%'),…"
      ]
     },
     "metadata": {},
     "output_type": "display_data"
    },
    {
     "name": "stdout",
     "output_type": "stream",
     "text": [
      "+---------+-------------+--------+\n",
      "|   tconst|averageRating|numVotes|\n",
      "+---------+-------------+--------+\n",
      "|tt7430722|          6.8|    9999|\n",
      "|tt4445154|          8.1|    9997|\n",
      "|tt2229907|          6.3|    9996|\n",
      "|tt0294097|          8.0|    9994|\n",
      "|tt0264734|          6.5|    9993|\n",
      "|tt8860450|          6.3|    9991|\n",
      "|tt2032572|          5.2|    9991|\n",
      "|tt2471626|          7.6|     999|\n",
      "|tt3244036|          8.3|     999|\n",
      "|tt2195566|          7.9|     999|\n",
      "+---------+-------------+--------+\n",
      "only showing top 10 rows"
     ]
    }
   ],
   "source": [
    "movie_ratings.createOrReplaceTempView('Movie_Ratings')\n",
    "sqldf = spark.sql(\n",
    "\"SELECT * FROM Movie_Ratings ORDER BY numVotes DESC\").show(10)"
   ]
  },
  {
   "cell_type": "markdown",
   "id": "9be5e334",
   "metadata": {},
   "source": [
    "# Overview of Data"
   ]
  },
  {
   "cell_type": "code",
   "execution_count": 20,
   "id": "1a850d0f",
   "metadata": {},
   "outputs": [
    {
     "data": {
      "application/vnd.jupyter.widget-view+json": {
       "model_id": "69e8c7c0c65448569e2b5c422f73ab2c",
       "version_major": 2,
       "version_minor": 0
      },
      "text/plain": [
       "VBox()"
      ]
     },
     "metadata": {},
     "output_type": "display_data"
    },
    {
     "data": {
      "application/vnd.jupyter.widget-view+json": {
       "model_id": "",
       "version_major": 2,
       "version_minor": 0
      },
      "text/plain": [
       "FloatProgress(value=0.0, bar_style='info', description='Progress:', layout=Layout(height='25px', width='50%'),…"
      ]
     },
     "metadata": {},
     "output_type": "display_data"
    },
    {
     "name": "stdout",
     "output_type": "stream",
     "text": [
      "Number of columns in Actors table: 6\n",
      "Number of rows in Actors table: 9,706,922\n",
      "\n",
      "\n",
      "Number of columns in Genres table: 9\n",
      "Number of rows in Genres table: 6,321,302\n",
      "\n",
      "\n",
      "Number of columns in Movie Actors table: 6\n",
      "Number of rows in Movie Actors table: 36,468,817\n",
      "\n",
      "\n",
      "Number of columns in Movie Ratings table: 3\n",
      "Number of rows in Movie Ratings table: 993,153"
     ]
    }
   ],
   "source": [
    "print(f'Number of columns in Actors table: {len(actors.dtypes)}')\n",
    "print(f'Number of rows in Actors table: {actors.count():,}')\n",
    "print(\"\\n\")\n",
    "print(f'Number of columns in Genres table: {len(genres.dtypes)}')\n",
    "print(f'Number of rows in Genres table: {genres.count():,}')\n",
    "print(\"\\n\")\n",
    "print(f'Number of columns in Movie Actors table: {len(movie_actors.dtypes)}')\n",
    "print(f'Number of rows in Movie Actors table: {movie_actors.count():,}')\n",
    "print(\"\\n\")\n",
    "print(f'Number of columns in Movie Ratings table: {len(movie_ratings.dtypes)}')\n",
    "print(f'Number of rows in Movie Ratings table: {movie_ratings.count():,}')"
   ]
  },
  {
   "cell_type": "markdown",
   "id": "5fe775ae",
   "metadata": {},
   "source": [
    "# PART 2 - Analyzing Genres"
   ]
  },
  {
   "cell_type": "code",
   "execution_count": 21,
   "id": "b300488e",
   "metadata": {},
   "outputs": [
    {
     "data": {
      "application/vnd.jupyter.widget-view+json": {
       "model_id": "36cf2476bd284fb286aaef2a2228eb2a",
       "version_major": 2,
       "version_minor": 0
      },
      "text/plain": [
       "VBox()"
      ]
     },
     "metadata": {},
     "output_type": "display_data"
    },
    {
     "data": {
      "application/vnd.jupyter.widget-view+json": {
       "model_id": "",
       "version_major": 2,
       "version_minor": 0
      },
      "text/plain": [
       "FloatProgress(value=0.0, bar_style='info', description='Progress:', layout=Layout(height='25px', width='50%'),…"
      ]
     },
     "metadata": {},
     "output_type": "display_data"
    },
    {
     "name": "stdout",
     "output_type": "stream",
     "text": [
      "+---------+---------+--------------------+\n",
      "|   tconst|titleType|              genres|\n",
      "+---------+---------+--------------------+\n",
      "|tt0000001|    short|   Documentary,Short|\n",
      "|tt0000002|    short|     Animation,Short|\n",
      "|tt0000003|    short|Animation,Comedy,...|\n",
      "|tt0000004|    short|     Animation,Short|\n",
      "|tt0000005|    short|        Comedy,Short|\n",
      "+---------+---------+--------------------+\n",
      "only showing top 5 rows"
     ]
    }
   ],
   "source": [
    "genres.createOrReplaceTempView('Genres')\n",
    "sqldf = spark.sql(\n",
    "\"SELECT tconst, titleType, genres FROM Genres\").show(5)"
   ]
  },
  {
   "cell_type": "code",
   "execution_count": 6,
   "id": "a60dabd6",
   "metadata": {
    "scrolled": true
   },
   "outputs": [
    {
     "data": {
      "application/vnd.jupyter.widget-view+json": {
       "model_id": "b6346dd6909d481b90c70f32ae5473df",
       "version_major": 2,
       "version_minor": 0
      },
      "text/plain": [
       "VBox()"
      ]
     },
     "metadata": {},
     "output_type": "display_data"
    },
    {
     "data": {
      "application/vnd.jupyter.widget-view+json": {
       "model_id": "",
       "version_major": 2,
       "version_minor": 0
      },
      "text/plain": [
       "FloatProgress(value=0.0, bar_style='info', description='Progress:', layout=Layout(height='25px', width='50%'),…"
      ]
     },
     "metadata": {},
     "output_type": "display_data"
    },
    {
     "name": "stdout",
     "output_type": "stream",
     "text": [
      "+---------+---------+-----------+\n",
      "|   tconst|titleType|     genres|\n",
      "+---------+---------+-----------+\n",
      "|tt0000001|    short|Documentary|\n",
      "|tt0000001|    short|      Short|\n",
      "|tt0000002|    short|  Animation|\n",
      "|tt0000002|    short|      Short|\n",
      "|tt0000003|    short|  Animation|\n",
      "|tt0000003|    short|     Comedy|\n",
      "|tt0000003|    short|    Romance|\n",
      "|tt0000004|    short|  Animation|\n",
      "|tt0000004|    short|      Short|\n",
      "|tt0000005|    short|     Comedy|\n",
      "+---------+---------+-----------+\n",
      "only showing top 10 rows"
     ]
    }
   ],
   "source": [
    "from pyspark.sql.functions import split, col, explode\n",
    "genres.withColumn('genres',explode(split('genres',\",\"))).createOrReplaceTempView('Genres')\n",
    "sqldf = spark.sql(\n",
    "\"SELECT tconst, titleType, genres FROM Genres\").show(10)"
   ]
  },
  {
   "cell_type": "markdown",
   "id": "5e0a1be8",
   "metadata": {},
   "source": [
    "## Total Unique Genres"
   ]
  },
  {
   "cell_type": "code",
   "execution_count": 156,
   "id": "451bee3d",
   "metadata": {
    "scrolled": false
   },
   "outputs": [
    {
     "data": {
      "application/vnd.jupyter.widget-view+json": {
       "model_id": "c224ff300d004f0abac0c340fd4b2a8b",
       "version_major": 2,
       "version_minor": 0
      },
      "text/plain": [
       "VBox()"
      ]
     },
     "metadata": {},
     "output_type": "display_data"
    },
    {
     "data": {
      "application/vnd.jupyter.widget-view+json": {
       "model_id": "",
       "version_major": 2,
       "version_minor": 0
      },
      "text/plain": [
       "FloatProgress(value=0.0, bar_style='info', description='Progress:', layout=Layout(height='25px', width='50%'),…"
      ]
     },
     "metadata": {},
     "output_type": "display_data"
    },
    {
     "name": "stdout",
     "output_type": "stream",
     "text": [
      "+----------------------+\n",
      "|count(DISTINCT genres)|\n",
      "+----------------------+\n",
      "|                    29|\n",
      "+----------------------+"
     ]
    }
   ],
   "source": [
    "genres.withColumn('genres',explode(split('genres',\",\"))).createOrReplaceTempView('Genres')\n",
    "sqldf = spark.sql(\n",
    "\"SELECT COUNT (distinct genres) FROM Genres\").show()"
   ]
  },
  {
   "cell_type": "code",
   "execution_count": 78,
   "id": "cc55ea3a",
   "metadata": {},
   "outputs": [
    {
     "data": {
      "application/vnd.jupyter.widget-view+json": {
       "model_id": "79b8c3f450ba439b8fcf2fcded0bb3a1",
       "version_major": 2,
       "version_minor": 0
      },
      "text/plain": [
       "VBox()"
      ]
     },
     "metadata": {},
     "output_type": "display_data"
    },
    {
     "data": {
      "application/vnd.jupyter.widget-view+json": {
       "model_id": "",
       "version_major": 2,
       "version_minor": 0
      },
      "text/plain": [
       "FloatProgress(value=0.0, bar_style='info', description='Progress:', layout=Layout(height='25px', width='50%'),…"
      ]
     },
     "metadata": {},
     "output_type": "display_data"
    },
    {
     "name": "stdout",
     "output_type": "stream",
     "text": [
      "+-----------+\n",
      "|genres     |\n",
      "+-----------+\n",
      "|Mystery    |\n",
      "|Musical    |\n",
      "|Sport      |\n",
      "|Action     |\n",
      "|Talk-Show  |\n",
      "|Romance    |\n",
      "|Thriller   |\n",
      "|\\N         |\n",
      "|Reality-TV |\n",
      "|Family     |\n",
      "|Fantasy    |\n",
      "|History    |\n",
      "|Animation  |\n",
      "|Film-Noir  |\n",
      "|Short      |\n",
      "|Sci-Fi     |\n",
      "|News       |\n",
      "|Drama      |\n",
      "|Documentary|\n",
      "|Western    |\n",
      "|Comedy     |\n",
      "|Crime      |\n",
      "|War        |\n",
      "|Game-Show  |\n",
      "|Adult      |\n",
      "|Music      |\n",
      "|Biography  |\n",
      "|Adventure  |\n",
      "|Horror     |\n",
      "+-----------+"
     ]
    }
   ],
   "source": [
    "genres.withColumn('genres',explode(split('genres',\",\"))).createOrReplaceTempView('Genres')\n",
    "sqldf = spark.sql(\n",
    "\"SELECT DISTINCT genres FROM Genres\").show(30,truncate=False)"
   ]
  },
  {
   "cell_type": "markdown",
   "id": "dbeb6543",
   "metadata": {},
   "source": [
    "**Oops! Something is off!**"
   ]
  },
  {
   "cell_type": "code",
   "execution_count": 108,
   "id": "1b311e86",
   "metadata": {},
   "outputs": [
    {
     "data": {
      "application/vnd.jupyter.widget-view+json": {
       "model_id": "828d8c39a4814b5bb42334f419d103fc",
       "version_major": 2,
       "version_minor": 0
      },
      "text/plain": [
       "VBox()"
      ]
     },
     "metadata": {},
     "output_type": "display_data"
    },
    {
     "data": {
      "application/vnd.jupyter.widget-view+json": {
       "model_id": "",
       "version_major": 2,
       "version_minor": 0
      },
      "text/plain": [
       "FloatProgress(value=0.0, bar_style='info', description='Progress:', layout=Layout(height='25px', width='50%'),…"
      ]
     },
     "metadata": {},
     "output_type": "display_data"
    },
    {
     "name": "stdout",
     "output_type": "stream",
     "text": [
      "+-----------+\n",
      "|genres     |\n",
      "+-----------+\n",
      "|Mystery    |\n",
      "|Musical    |\n",
      "|Sport      |\n",
      "|Action     |\n",
      "|Talk-Show  |\n",
      "|Romance    |\n",
      "|Thriller   |\n",
      "|Reality-TV |\n",
      "|Family     |\n",
      "|Fantasy    |\n",
      "|History    |\n",
      "|Animation  |\n",
      "|Short      |\n",
      "|Film-Noir  |\n",
      "|Sci-Fi     |\n",
      "|News       |\n",
      "|Drama      |\n",
      "|Documentary|\n",
      "|Western    |\n",
      "|Comedy     |\n",
      "|Crime      |\n",
      "|War        |\n",
      "|Game-Show  |\n",
      "|Adult      |\n",
      "|Music      |\n",
      "|Biography  |\n",
      "|Adventure  |\n",
      "|Horror     |\n",
      "+-----------+"
     ]
    }
   ],
   "source": [
    "genres.withColumn('genres',explode(split('genres',\",\"))).createOrReplaceTempView('Genres')\n",
    "sqldf = spark.sql(\n",
    "'''SELECT DISTINCT genres FROM Genres WHERE genres != \"\\\\\\\\N\"''').show(30,truncate=False)\n"
   ]
  },
  {
   "cell_type": "markdown",
   "id": "0e1ce59d",
   "metadata": {},
   "source": [
    "# Top Genres by Movies"
   ]
  },
  {
   "cell_type": "code",
   "execution_count": 121,
   "id": "0eeba979",
   "metadata": {},
   "outputs": [
    {
     "data": {
      "application/vnd.jupyter.widget-view+json": {
       "model_id": "66a6e816e4c547719ef3a0262d802551",
       "version_major": 2,
       "version_minor": 0
      },
      "text/plain": [
       "VBox()"
      ]
     },
     "metadata": {},
     "output_type": "display_data"
    },
    {
     "data": {
      "application/vnd.jupyter.widget-view+json": {
       "model_id": "",
       "version_major": 2,
       "version_minor": 0
      },
      "text/plain": [
       "FloatProgress(value=0.0, bar_style='info', description='Progress:', layout=Layout(height='25px', width='50%'),…"
      ]
     },
     "metadata": {},
     "output_type": "display_data"
    },
    {
     "name": "stdout",
     "output_type": "stream",
     "text": [
      "+-----------+-------------+\n",
      "|     genres|averageRating|\n",
      "+-----------+-------------+\n",
      "|Documentary|          5.1|\n",
      "|      Short|          5.1|\n",
      "|Documentary|          5.2|\n",
      "|      Short|          5.2|\n",
      "|     Comedy|          5.2|\n",
      "|      Short|          5.2|\n",
      "|     Comedy|          6.0|\n",
      "|     Horror|          6.0|\n",
      "|      Short|          6.0|\n",
      "|Documentary|          4.9|\n",
      "+-----------+-------------+\n",
      "only showing top 10 rows"
     ]
    }
   ],
   "source": [
    "genres.withColumn('genres',explode(split('genres',\",\"))).createOrReplaceTempView('Genres')\n",
    "movie_ratings.createOrReplaceTempView(\"Ratings\")\n",
    "\n",
    "sqldf = spark.sql(\n",
    "    \"SELECT g.genres, r.averageRating FROM Genres g INNER JOIN  Ratings r on g.tconst == r.tconst\").show(10)"
   ]
  },
  {
   "cell_type": "code",
   "execution_count": 126,
   "id": "843c2007",
   "metadata": {},
   "outputs": [
    {
     "data": {
      "application/vnd.jupyter.widget-view+json": {
       "model_id": "346c285bfe0d4ac59b53a8c275cb0b76",
       "version_major": 2,
       "version_minor": 0
      },
      "text/plain": [
       "VBox()"
      ]
     },
     "metadata": {},
     "output_type": "display_data"
    },
    {
     "data": {
      "application/vnd.jupyter.widget-view+json": {
       "model_id": "",
       "version_major": 2,
       "version_minor": 0
      },
      "text/plain": [
       "FloatProgress(value=0.0, bar_style='info', description='Progress:', layout=Layout(height='25px', width='50%'),…"
      ]
     },
     "metadata": {},
     "output_type": "display_data"
    },
    {
     "name": "stdout",
     "output_type": "stream",
     "text": [
      "+-----------+------------------+\n",
      "|     genres|        avg_rating|\n",
      "+-----------+------------------+\n",
      "|    Mystery|5.9404375359815775|\n",
      "|    Musical|6.2032460545193695|\n",
      "|     Action| 5.718734069668651|\n",
      "|      Sport| 6.600145190562612|\n",
      "|  Talk-Show|               5.8|\n",
      "|    Romance|6.1257141803973605|\n",
      "|   Thriller| 5.625967566447333|\n",
      "| Reality-TV| 6.379310344827586|\n",
      "|     Family| 6.250560452715203|\n",
      "|    Fantasy| 5.924820762833382|\n",
      "|    History| 6.822718115605144|\n",
      "|  Animation| 6.326203750633555|\n",
      "|  Film-Noir| 6.636246786632391|\n",
      "|      Short| 7.260000000000001|\n",
      "|     Sci-Fi| 5.325150008571917|\n",
      "|       News| 7.200916030534349|\n",
      "|      Drama| 6.288080210387902|\n",
      "|Documentary| 7.245469798657718|\n",
      "|    Western| 5.948970989337963|\n",
      "|     Comedy| 5.941363108004128|\n",
      "+-----------+------------------+\n",
      "only showing top 20 rows"
     ]
    }
   ],
   "source": [
    "genres.withColumn('genres',explode(split('genres',\",\"))).createOrReplaceTempView('Genres')\n",
    "movie_ratings.createOrReplaceTempView(\"Ratings\")\n",
    "\n",
    "sqldf = spark.sql(\n",
    "    '''SELECT g.genres, AVG(r.averageRating) AS avg_rating FROM Genres g \n",
    "    INNER JOIN  Ratings r on g.tconst == r.tconst \n",
    "    WHERE g.genres != \"\\\\\\\\N\" AND g.titleType = \"movie\" GROUP BY g.genres''').show(20)"
   ]
  },
  {
   "cell_type": "markdown",
   "id": "55625ffc",
   "metadata": {},
   "source": [
    "# Horizontal Bar Chart of Top Genres"
   ]
  },
  {
   "cell_type": "code",
   "execution_count": 127,
   "id": "556aab63",
   "metadata": {},
   "outputs": [
    {
     "data": {
      "application/vnd.jupyter.widget-view+json": {
       "model_id": "fb2adba1795f4de78e7a0eb847bb8ef6",
       "version_major": 2,
       "version_minor": 0
      },
      "text/plain": [
       "VBox()"
      ]
     },
     "metadata": {},
     "output_type": "display_data"
    },
    {
     "data": {
      "application/vnd.jupyter.widget-view+json": {
       "model_id": "",
       "version_major": 2,
       "version_minor": 0
      },
      "text/plain": [
       "FloatProgress(value=0.0, bar_style='info', description='Progress:', layout=Layout(height='25px', width='50%'),…"
      ]
     },
     "metadata": {},
     "output_type": "display_data"
    },
    {
     "name": "stdout",
     "output_type": "stream",
     "text": [
      "+-----------+------------------+\n",
      "|     genres|        avg_rating|\n",
      "+-----------+------------------+\n",
      "|      Short|              7.26|\n",
      "|Documentary| 7.245469798657716|\n",
      "|       News|7.2009160305343505|\n",
      "|  Biography| 6.983637640449438|\n",
      "|  Game-Show|             6.975|\n",
      "|    History| 6.822718115605146|\n",
      "|      Music|6.7520202020202005|\n",
      "|  Film-Noir| 6.636246786632389|\n",
      "|      Sport| 6.600145190562614|\n",
      "|        War| 6.483807030665668|\n",
      "| Reality-TV| 6.379310344827587|\n",
      "|  Animation| 6.326203750633552|\n",
      "|      Drama| 6.288080210387902|\n",
      "|     Family| 6.250560452715202|\n",
      "|    Musical|6.2032460545193695|\n",
      "|    Romance|6.1257141803973605|\n",
      "|      Crime| 6.026013332684541|\n",
      "|    Western| 5.948970989337962|\n",
      "|     Comedy| 5.941363108004129|\n",
      "|    Mystery|5.9404375359815775|\n",
      "+-----------+------------------+\n",
      "only showing top 20 rows"
     ]
    }
   ],
   "source": [
    "genres.withColumn('genres',explode(split('genres',\",\"))).createOrReplaceTempView('Genres')\n",
    "movie_ratings.createOrReplaceTempView(\"Ratings\")\n",
    "\n",
    "sqldf = spark.sql(\n",
    "    '''SELECT g.genres, AVG(r.averageRating) AS avg_rating FROM Genres g \n",
    "    INNER JOIN  Ratings r on g.tconst == r.tconst WHERE g.genres != \"\\\\\\\\N\" AND g.titleType = \"movie\"\n",
    "    GROUP BY g.genres ORDER BY avg_rating DESC''').show(20)"
   ]
  },
  {
   "cell_type": "code",
   "execution_count": 144,
   "id": "2f2f53d1",
   "metadata": {},
   "outputs": [
    {
     "data": {
      "application/vnd.jupyter.widget-view+json": {
       "model_id": "798a28706c4f4f7aa07e5ebcdb3b7135",
       "version_major": 2,
       "version_minor": 0
      },
      "text/plain": [
       "VBox()"
      ]
     },
     "metadata": {},
     "output_type": "display_data"
    },
    {
     "data": {
      "application/vnd.jupyter.widget-view+json": {
       "model_id": "",
       "version_major": 2,
       "version_minor": 0
      },
      "text/plain": [
       "FloatProgress(value=0.0, bar_style='info', description='Progress:', layout=Layout(height='25px', width='50%'),…"
      ]
     },
     "metadata": {},
     "output_type": "display_data"
    },
    {
     "data": {
      "image/png": "[encoded data removed]",
      "text/plain": [
       "<IPython.core.display.Image object>"
      ]
     },
     "metadata": {},
     "output_type": "display_data"
    }
   ],
   "source": [
    "genres.withColumn('genres',explode(split('genres',\",\"))).createOrReplaceTempView('Genres')\n",
    "movie_ratings.createOrReplaceTempView(\"Ratings\")\n",
    "\n",
    "sqldf = spark.sql(\n",
    "    '''SELECT g.genres, AVG(r.averageRating) AS avg_rating FROM Genres g \n",
    "    INNER JOIN  Ratings r on g.tconst == r.tconst WHERE g.genres != \"\\\\\\\\N\" AND g.titleType = \"movie\"\n",
    "    GROUP BY g.genres ORDER BY avg_rating ASC''')\n",
    "sqldf.toPandas().plot.barh(\"genres\",\"avg_rating\", color=\"magenta\", figsize=(10,7))\n",
    "plt.xlabel(\"Average Rating\")\n",
    "plt.ylabel(\"Genre\")\n",
    "plt.title(\"Top Genres in the Movie Category\")\n",
    "plt.xlim(5, 7.5)\n",
    "%matplot plt"
   ]
  },
  {
   "cell_type": "markdown",
   "id": "7466cfae",
   "metadata": {},
   "source": [
    "# PART 3 - Analyzing Job Categories"
   ]
  },
  {
   "cell_type": "code",
   "execution_count": 161,
   "id": "f2eef630",
   "metadata": {},
   "outputs": [
    {
     "data": {
      "application/vnd.jupyter.widget-view+json": {
       "model_id": "226b0cd010d34844a54bdd5c62f34f72",
       "version_major": 2,
       "version_minor": 0
      },
      "text/plain": [
       "VBox()"
      ]
     },
     "metadata": {},
     "output_type": "display_data"
    },
    {
     "data": {
      "application/vnd.jupyter.widget-view+json": {
       "model_id": "",
       "version_major": 2,
       "version_minor": 0
      },
      "text/plain": [
       "FloatProgress(value=0.0, bar_style='info', description='Progress:', layout=Layout(height='25px', width='50%'),…"
      ]
     },
     "metadata": {},
     "output_type": "display_data"
    },
    {
     "name": "stdout",
     "output_type": "stream",
     "text": [
      "+---------+---------------+\n",
      "|   tconst|       category|\n",
      "+---------+---------------+\n",
      "|tt0000001|       director|\n",
      "|tt0000001|           self|\n",
      "|tt0000001|cinematographer|\n",
      "|tt0000002|       composer|\n",
      "|tt0000002|       director|\n",
      "+---------+---------------+\n",
      "only showing top 5 rows"
     ]
    }
   ],
   "source": [
    "movie_actors.withColumn('category',explode(split('category',\",\"))).createOrReplaceTempView('Actors')\n",
    "sqldf = spark.sql(\n",
    "\"SELECT DISTINCT tconst, category FROM Actors ORDER BY tconst ASC\").show(5)"
   ]
  },
  {
   "cell_type": "code",
   "execution_count": 168,
   "id": "bf591726",
   "metadata": {},
   "outputs": [
    {
     "data": {
      "application/vnd.jupyter.widget-view+json": {
       "model_id": "4cd5923e4a9d4a5da816b420176e4830",
       "version_major": 2,
       "version_minor": 0
      },
      "text/plain": [
       "VBox()"
      ]
     },
     "metadata": {},
     "output_type": "display_data"
    },
    {
     "data": {
      "application/vnd.jupyter.widget-view+json": {
       "model_id": "",
       "version_major": 2,
       "version_minor": 0
      },
      "text/plain": [
       "FloatProgress(value=0.0, bar_style='info', description='Progress:', layout=Layout(height='25px', width='50%'),…"
      ]
     },
     "metadata": {},
     "output_type": "display_data"
    },
    {
     "name": "stdout",
     "output_type": "stream",
     "text": [
      "+------------------------+\n",
      "|count(DISTINCT category)|\n",
      "+------------------------+\n",
      "|                      12|\n",
      "+------------------------+"
     ]
    }
   ],
   "source": [
    "movie_actors.withColumn('category',explode(split('category',\",\"))).createOrReplaceTempView('Actors')\n",
    "sqldf = spark.sql(\n",
    "\"SELECT COUNT (DISTINCT category) FROM Actors\").show()"
   ]
  },
  {
   "cell_type": "code",
   "execution_count": 169,
   "id": "f1b600ae",
   "metadata": {},
   "outputs": [
    {
     "data": {
      "application/vnd.jupyter.widget-view+json": {
       "model_id": "5ceb7a1bcad34a15b754eb6961f7f98e",
       "version_major": 2,
       "version_minor": 0
      },
      "text/plain": [
       "VBox()"
      ]
     },
     "metadata": {},
     "output_type": "display_data"
    },
    {
     "data": {
      "application/vnd.jupyter.widget-view+json": {
       "model_id": "",
       "version_major": 2,
       "version_minor": 0
      },
      "text/plain": [
       "FloatProgress(value=0.0, bar_style='info', description='Progress:', layout=Layout(height='25px', width='50%'),…"
      ]
     },
     "metadata": {},
     "output_type": "display_data"
    },
    {
     "name": "stdout",
     "output_type": "stream",
     "text": [
      "+-------------------+\n",
      "|category           |\n",
      "+-------------------+\n",
      "|actress            |\n",
      "|producer           |\n",
      "|production_designer|\n",
      "|writer             |\n",
      "|actor              |\n",
      "|cinematographer    |\n",
      "|archive_sound      |\n",
      "|archive_footage    |\n",
      "|self               |\n",
      "|editor             |\n",
      "|composer           |\n",
      "|director           |\n",
      "+-------------------+"
     ]
    }
   ],
   "source": [
    "movie_actors.withColumn('category',explode(split('category',\",\"))).createOrReplaceTempView('Actors')\n",
    "sqldf = spark.sql(\n",
    "\"SELECT DISTINCT category FROM Actors\").show(truncate=False)"
   ]
  },
  {
   "cell_type": "markdown",
   "id": "21317fd3",
   "metadata": {},
   "source": [
    "## Top Job Categories"
   ]
  },
  {
   "cell_type": "code",
   "execution_count": 172,
   "id": "0bccf384",
   "metadata": {},
   "outputs": [
    {
     "data": {
      "application/vnd.jupyter.widget-view+json": {
       "model_id": "ef5026fa18be43df9054e45a8982beb9",
       "version_major": 2,
       "version_minor": 0
      },
      "text/plain": [
       "VBox()"
      ]
     },
     "metadata": {},
     "output_type": "display_data"
    },
    {
     "data": {
      "application/vnd.jupyter.widget-view+json": {
       "model_id": "",
       "version_major": 2,
       "version_minor": 0
      },
      "text/plain": [
       "FloatProgress(value=0.0, bar_style='info', description='Progress:', layout=Layout(height='25px', width='50%'),…"
      ]
     },
     "metadata": {},
     "output_type": "display_data"
    },
    {
     "name": "stdout",
     "output_type": "stream",
     "text": [
      "+-------------------+-------+\n",
      "|           category|  count|\n",
      "+-------------------+-------+\n",
      "|            actress|6325097|\n",
      "|           producer|2197866|\n",
      "|production_designer| 285924|\n",
      "|             writer|4811596|\n",
      "|              actor|8493701|\n",
      "|    cinematographer|1300404|\n",
      "|      archive_sound|   2143|\n",
      "|    archive_footage| 209035|\n",
      "|               self|6153089|\n",
      "|             editor|1197669|\n",
      "|           composer|1313187|\n",
      "|           director|4179106|\n",
      "+-------------------+-------+"
     ]
    }
   ],
   "source": [
    "movie_actors.withColumn('category',explode(split('category',\",\"))).createOrReplaceTempView('Actors')\n",
    "sqldf = spark.sql(\n",
    "\"SELECT category, COUNT (category) as count FROM Actors GROUP BY category\").show()"
   ]
  },
  {
   "cell_type": "markdown",
   "id": "8f464499",
   "metadata": {},
   "source": [
    "### Bar Chart of Top Job Categories"
   ]
  },
  {
   "cell_type": "code",
   "execution_count": 173,
   "id": "975aa899",
   "metadata": {},
   "outputs": [
    {
     "data": {
      "application/vnd.jupyter.widget-view+json": {
       "model_id": "6de09230a7fc4401b287a8e844b3a65b",
       "version_major": 2,
       "version_minor": 0
      },
      "text/plain": [
       "VBox()"
      ]
     },
     "metadata": {},
     "output_type": "display_data"
    },
    {
     "data": {
      "application/vnd.jupyter.widget-view+json": {
       "model_id": "",
       "version_major": 2,
       "version_minor": 0
      },
      "text/plain": [
       "FloatProgress(value=0.0, bar_style='info', description='Progress:', layout=Layout(height='25px', width='50%'),…"
      ]
     },
     "metadata": {},
     "output_type": "display_data"
    },
    {
     "name": "stdout",
     "output_type": "stream",
     "text": [
      "+-------------------+-------+\n",
      "|           category|  count|\n",
      "+-------------------+-------+\n",
      "|              actor|8493701|\n",
      "|            actress|6325097|\n",
      "|               self|6153089|\n",
      "|             writer|4811596|\n",
      "|           director|4179106|\n",
      "|           producer|2197866|\n",
      "|           composer|1313187|\n",
      "|    cinematographer|1300404|\n",
      "|             editor|1197669|\n",
      "|production_designer| 285924|\n",
      "|    archive_footage| 209035|\n",
      "|      archive_sound|   2143|\n",
      "+-------------------+-------+"
     ]
    }
   ],
   "source": [
    "movie_actors.withColumn('category',explode(split('category',\",\"))).createOrReplaceTempView('Actors')\n",
    "sqldf = spark.sql(\n",
    "\"SELECT category, COUNT (category) as count FROM Actors GROUP BY category ORDER BY count DESC\").show()"
   ]
  },
  {
   "cell_type": "code",
   "execution_count": 125,
   "id": "eb5f8165",
   "metadata": {},
   "outputs": [
    {
     "data": {
      "application/vnd.jupyter.widget-view+json": {
       "model_id": "499da7fa06dc42468497f94a916b6422",
       "version_major": 2,
       "version_minor": 0
      },
      "text/plain": [
       "VBox()"
      ]
     },
     "metadata": {},
     "output_type": "display_data"
    },
    {
     "data": {
      "application/vnd.jupyter.widget-view+json": {
       "model_id": "",
       "version_major": 2,
       "version_minor": 0
      },
      "text/plain": [
       "FloatProgress(value=0.0, bar_style='info', description='Progress:', layout=Layout(height='25px', width='50%'),…"
      ]
     },
     "metadata": {},
     "output_type": "display_data"
    },
    {
     "data": {
      "image/png": "[encoded data removed]",
      "text/plain": [
       "<IPython.core.display.Image object>"
      ]
     },
     "metadata": {},
     "output_type": "display_data"
    }
   ],
   "source": [
    "movie_actors.withColumn('category',explode(split('category',\",\"))).createOrReplaceTempView('Actors')\n",
    "sqldf = spark.sql(\n",
    "\"SELECT category, COUNT (category) as count FROM Actors GROUP BY category ORDER BY count DESC LIMIT 5\")\n",
    "sqldf.toPandas().plot.bar(\"category\",\"count\", color ='orange', figsize = (10,7))\n",
    "plt.xlabel(\"Job Categories\")\n",
    "plt.ylabel(\"Count\")\n",
    "plt.ylim(3000000, 9000000)\n",
    "plt.xticks(rotation = 45)\n",
    "plt.title(\"Top Job Categories\")\n",
    "%matplot plt"
   ]
  },
  {
   "cell_type": "markdown",
   "id": "37bbc2b9",
   "metadata": {},
   "source": [
    "# PART 4 - Answer to the following questions:"
   ]
  },
  {
   "cell_type": "markdown",
   "id": "fe458ed2",
   "metadata": {},
   "source": [
    "# 1) Find all the \"movies\" \"acted\" by both \"Johnny Depp\" and \"Helena Bonham Carter\"."
   ]
  },
  {
   "cell_type": "code",
   "execution_count": 6,
   "id": "630edc63",
   "metadata": {},
   "outputs": [
    {
     "data": {
      "application/vnd.jupyter.widget-view+json": {
       "model_id": "4503c6f1bb6646969c37fc375da9a259",
       "version_major": 2,
       "version_minor": 0
      },
      "text/plain": [
       "VBox()"
      ]
     },
     "metadata": {},
     "output_type": "display_data"
    },
    {
     "data": {
      "application/vnd.jupyter.widget-view+json": {
       "model_id": "",
       "version_major": 2,
       "version_minor": 0
      },
      "text/plain": [
       "FloatProgress(value=0.0, bar_style='info', description='Progress:', layout=Layout(height='25px', width='50%'),…"
      ]
     },
     "metadata": {},
     "output_type": "display_data"
    },
    {
     "name": "stdout",
     "output_type": "stream",
     "text": [
      "+--------------------+\n",
      "|        primaryTitle|\n",
      "+--------------------+\n",
      "|        Corpse Bride|\n",
      "|        Dark Shadows|\n",
      "|Charlie and the C...|\n",
      "|Alice Through the...|\n",
      "|Sweeney Todd: The...|\n",
      "| Alice in Wonderland|\n",
      "+--------------------+"
     ]
    }
   ],
   "source": [
    "genres.createOrReplaceTempView('Genres')\n",
    "actors.createOrReplaceTempView('Actor')\n",
    "movie_actors.createOrReplaceTempView(\"Movie_Actor\")\n",
    "\n",
    "sqldf = spark.sql(\n",
    "    '''SELECT DISTINCT g.primaryTitle FROM Genres g \n",
    "    JOIN  Movie_Actor m on g.tconst == m.tconst\n",
    "    FULL JOIN  Actor a on m.nconst == a.nconst\n",
    "    WHERE g.titleType = \"movie\" AND a.primaryName IN (\"Johnny Depp\", \"Helena Bonham Carter\" )\n",
    "    GROUP BY g.primaryTitle \n",
    "    HAVING COUNT(*) = 2\n",
    "    ''').show()\n"
   ]
  },
  {
   "cell_type": "markdown",
   "id": "88faf488",
   "metadata": {},
   "source": [
    "# 2) Find all the \"movies\" \"acted\" by \"Brad Pitt\" after 2010."
   ]
  },
  {
   "cell_type": "code",
   "execution_count": 89,
   "id": "96046f5a",
   "metadata": {},
   "outputs": [
    {
     "data": {
      "application/vnd.jupyter.widget-view+json": {
       "model_id": "3b4c12ff87024082bf5df05d50cab2be",
       "version_major": 2,
       "version_minor": 0
      },
      "text/plain": [
       "VBox()"
      ]
     },
     "metadata": {},
     "output_type": "display_data"
    },
    {
     "data": {
      "application/vnd.jupyter.widget-view+json": {
       "model_id": "",
       "version_major": 2,
       "version_minor": 0
      },
      "text/plain": [
       "FloatProgress(value=0.0, bar_style='info', description='Progress:', layout=Layout(height='25px', width='50%'),…"
      ]
     },
     "metadata": {},
     "output_type": "display_data"
    },
    {
     "name": "stdout",
     "output_type": "stream",
     "text": [
      "+--------------------+---------+\n",
      "|        primaryTitle|startYear|\n",
      "+--------------------+---------+\n",
      "|             Babylon|     2021|\n",
      "|            Ad Astra|     2019|\n",
      "|Once Upon a Time ...|     2019|\n",
      "|         War Machine|     2017|\n",
      "|              Allied|     2016|\n",
      "|       The Big Short|     2015|\n",
      "|          By the Sea|     2015|\n",
      "|                Fury|     2014|\n",
      "|    12 Years a Slave|     2013|\n",
      "|         World War Z|     2013|\n",
      "| Killing Them Softly|     2012|\n",
      "|           Moneyball|     2011|\n",
      "|    The Tree of Life|     2011|\n",
      "+--------------------+---------+"
     ]
    }
   ],
   "source": [
    "genres.createOrReplaceTempView('Genres')\n",
    "actors.createOrReplaceTempView('Actor')\n",
    "movie_actors.createOrReplaceTempView(\"Movie_Actor\")\n",
    "\n",
    "sqldf = spark.sql(\n",
    "    '''SELECT DISTINCT g.primaryTitle, g.startYear FROM Genres g \n",
    "    JOIN  Movie_Actor m on g.tconst == m.tconst\n",
    "    JOIN  Actor a on a.nconst == m.nconst\n",
    "    WHERE a.primaryName == \"Brad Pitt\" AND g.startYear > 2010 AND m.category = \"actor\" and g.titleType = \"movie\"\n",
    "    ORDER BY g.startYear DESC\n",
    "    ''').show()"
   ]
  },
  {
   "cell_type": "markdown",
   "id": "7542b234",
   "metadata": {},
   "source": [
    "# 3) What is the number of \"movies\" \"acted\" by \"Zendaya\" per year?"
   ]
  },
  {
   "cell_type": "code",
   "execution_count": 50,
   "id": "66fd0a94",
   "metadata": {},
   "outputs": [
    {
     "data": {
      "application/vnd.jupyter.widget-view+json": {
       "model_id": "8c8e9e6ec7bc453b821dbdf8b031b670",
       "version_major": 2,
       "version_minor": 0
      },
      "text/plain": [
       "VBox()"
      ]
     },
     "metadata": {},
     "output_type": "display_data"
    },
    {
     "data": {
      "application/vnd.jupyter.widget-view+json": {
       "model_id": "",
       "version_major": 2,
       "version_minor": 0
      },
      "text/plain": [
       "FloatProgress(value=0.0, bar_style='info', description='Progress:', layout=Layout(height='25px', width='50%'),…"
      ]
     },
     "metadata": {},
     "output_type": "display_data"
    },
    {
     "name": "stdout",
     "output_type": "stream",
     "text": [
      "+---------+-----+\n",
      "|startYear|count|\n",
      "+---------+-----+\n",
      "|     2020|    1|\n",
      "|     2018|    2|\n",
      "|     2017|    1|\n",
      "+---------+-----+"
     ]
    }
   ],
   "source": [
    "genres.createOrReplaceTempView('Genres')\n",
    "actors.createOrReplaceTempView('Actor')\n",
    "movie_actors.createOrReplaceTempView(\"Movie_Actor\")\n",
    "\n",
    "sqldf = spark.sql(\n",
    "    '''SELECT g.startYear, COUNT (DISTINCT g.primaryTitle) as count FROM Genres g \n",
    "    JOIN  Movie_Actor m on g.tconst == m.tconst\n",
    "    JOIN  Actor a on a.nconst == m.nconst\n",
    "    WHERE a.primaryName == \"Zendaya\" AND g.titleType == \"movie\" AND g.startYear != \"\\\\\\\\N\"\n",
    "    GROUP BY g.startYear\n",
    "    ''').show()"
   ]
  },
  {
   "cell_type": "markdown",
   "id": "9a4499a9",
   "metadata": {},
   "source": [
    "# 4) What are the \"movies\" by average rating greater than \"9.7\" and released in \"2019\"?"
   ]
  },
  {
   "cell_type": "code",
   "execution_count": 57,
   "id": "67b3b894",
   "metadata": {
    "scrolled": true
   },
   "outputs": [
    {
     "data": {
      "application/vnd.jupyter.widget-view+json": {
       "model_id": "535880170e7940f2a5107f23c9323160",
       "version_major": 2,
       "version_minor": 0
      },
      "text/plain": [
       "VBox()"
      ]
     },
     "metadata": {},
     "output_type": "display_data"
    },
    {
     "data": {
      "application/vnd.jupyter.widget-view+json": {
       "model_id": "",
       "version_major": 2,
       "version_minor": 0
      },
      "text/plain": [
       "FloatProgress(value=0.0, bar_style='info', description='Progress:', layout=Layout(height='25px', width='50%'),…"
      ]
     },
     "metadata": {},
     "output_type": "display_data"
    },
    {
     "name": "stdout",
     "output_type": "stream",
     "text": [
      "+--------------------+-------------+\n",
      "|        primaryTitle|averageRating|\n",
      "+--------------------+-------------+\n",
      "|      A Grunt's Life|         10.0|\n",
      "|              Kirket|         10.0|\n",
      "|Bu Can Var Oldugu...|         10.0|\n",
      "|   L'Enfant Terrible|         10.0|\n",
      "| The Butcher Baronet|         10.0|\n",
      "|A Medicine for th...|         10.0|\n",
      "|   Our Scripted Life|         10.0|\n",
      "|The Twilight Zone...|         10.0|\n",
      "|    Love in Kilnerry|         10.0|\n",
      "|            Randhawa|          9.8|\n",
      "|We Shall Not Die Now|          9.8|\n",
      "|     Time and motion|          9.8|\n",
      "|Kamen Rider Zi-O:...|          9.8|\n",
      "|   Gini Helida Kathe|          9.8|\n",
      "|          Square One|          9.8|\n",
      "|   From Shock to Awe|          9.8|\n",
      "|         Superhombre|          9.9|\n",
      "|        The Cardinal|          9.9|\n",
      "|Puritan: All of L...|          9.9|\n",
      "+--------------------+-------------+"
     ]
    }
   ],
   "source": [
    "genres.createOrReplaceTempView('Genres')\n",
    "movie_ratings.createOrReplaceTempView(\"Ratings\")\n",
    "\n",
    "sqldf = spark.sql(\n",
    "    '''SELECT g.primaryTitle, r.averageRating FROM Genres g \n",
    "    INNER JOIN  Ratings r on g.tconst == r.tconst\n",
    "    WHERE g.startYear = 2019 AND r.averageRating > 9.7 AND g.titleType == \"movie\" \n",
    "    ORDER BY r.averageRating \n",
    "    ''').show()"
   ]
  },
  {
   "cell_type": "markdown",
   "id": "e0115a46",
   "metadata": {},
   "source": [
    "# Extra Credit - Analysis of your choice (2 pts)\n",
    "\n",
    "Try and analyze some interesting dimension to this data. You should specify the name of the analysis in your Project2_Analysis.ipynb. This part similar to Part 2 and Part 3.\n",
    "\n",
    "•\tYou must create at least one visual."
   ]
  },
  {
   "cell_type": "markdown",
   "id": "8ba0beb6",
   "metadata": {},
   "source": [
    "# 5) What is the average runtime of movies per year with a rating greater than 9.5 released after \"2010\"?"
   ]
  },
  {
   "cell_type": "code",
   "execution_count": 154,
   "id": "21a20741",
   "metadata": {
    "scrolled": true
   },
   "outputs": [
    {
     "data": {
      "application/vnd.jupyter.widget-view+json": {
       "model_id": "8fffa9ff6c4a4297b57b506565b7ed93",
       "version_major": 2,
       "version_minor": 0
      },
      "text/plain": [
       "VBox()"
      ]
     },
     "metadata": {},
     "output_type": "display_data"
    },
    {
     "data": {
      "application/vnd.jupyter.widget-view+json": {
       "model_id": "",
       "version_major": 2,
       "version_minor": 0
      },
      "text/plain": [
       "FloatProgress(value=0.0, bar_style='info', description='Progress:', layout=Layout(height='25px', width='50%'),…"
      ]
     },
     "metadata": {},
     "output_type": "display_data"
    },
    {
     "name": "stdout",
     "output_type": "stream",
     "text": [
      "+---------+------------------+\n",
      "|startYear|       avg_runtime|\n",
      "+---------+------------------+\n",
      "|     2019|102.71428571428571|\n",
      "|     2018|              87.0|\n",
      "|     2017|             84.75|\n",
      "|     2016|              77.2|\n",
      "|     2015|              71.5|\n",
      "|     2014|              63.0|\n",
      "|     2013|              62.0|\n",
      "|     2012|              83.5|\n",
      "+---------+------------------+"
     ]
    }
   ],
   "source": [
    "genres.createOrReplaceTempView('Genres')\n",
    "movie_ratings.createOrReplaceTempView(\"Ratings\")\n",
    "\n",
    "sqldf = spark.sql(\n",
    "    '''SELECT g.startYear, AVG(g.runtimeMinutes) AS avg_runtime FROM Genres g \n",
    "    INNER JOIN  Ratings r on g.tconst == r.tconst \n",
    "    WHERE g.startYear > 2010 AND r.averageRating > 9.5 AND g.titleType == \"movie\"\n",
    "    GROUP BY g.startYear ORDER BY g.startYear DESC''').show()"
   ]
  },
  {
   "cell_type": "code",
   "execution_count": 155,
   "id": "649019ea",
   "metadata": {},
   "outputs": [
    {
     "data": {
      "application/vnd.jupyter.widget-view+json": {
       "model_id": "ac3aad1160794cb8892ab8138c7c7ac6",
       "version_major": 2,
       "version_minor": 0
      },
      "text/plain": [
       "VBox()"
      ]
     },
     "metadata": {},
     "output_type": "display_data"
    },
    {
     "data": {
      "application/vnd.jupyter.widget-view+json": {
       "model_id": "",
       "version_major": 2,
       "version_minor": 0
      },
      "text/plain": [
       "FloatProgress(value=0.0, bar_style='info', description='Progress:', layout=Layout(height='25px', width='50%'),…"
      ]
     },
     "metadata": {},
     "output_type": "display_data"
    },
    {
     "data": {
      "image/png": "[encoded data removed]",
      "text/plain": [
       "<IPython.core.display.Image object>"
      ]
     },
     "metadata": {},
     "output_type": "display_data"
    }
   ],
   "source": [
    "genres.createOrReplaceTempView('Genres')\n",
    "movie_ratings.createOrReplaceTempView(\"Ratings\")\n",
    "\n",
    "sqldf = spark.sql(\n",
    "    '''SELECT g.startYear, AVG(g.runtimeMinutes) AS avg_runtime FROM Genres g \n",
    "    INNER JOIN  Ratings r on g.tconst == r.tconst \n",
    "    WHERE g.startYear > 2010 AND r.averageRating > 9.5 AND g.titleType == \"movie\"\n",
    "    GROUP BY g.startYear ORDER BY g.startYear ASC''')\n",
    "sqldf.toPandas().plot.line(\"startYear\", \"avg_runtime\", figsize = (10,7))\n",
    "plt.xlabel(\"Year\")\n",
    "plt.ylabel(\"Average Runtime\")\n",
    "plt.title(\"Average Run Time of Movies Rated Above 9.5 by Year\")\n",
    "%matplot plt\n"
   ]
  },
  {
   "cell_type": "markdown",
   "id": "dc701367",
   "metadata": {},
   "source": [
    "# Extra Credit - Answering a question of your choice (2 pts)\n",
    "\n",
    "Come up an answer to a question like in Part 4. The question of your choice should not be similar to the ones given in Part 4. Try to find an interesting question using different columns (i.e. num_votes, runtime). You should specify the question in Project2_Analysis.ipynb. \n",
    "\n",
    "•\tYou must join at least two datasets."
   ]
  },
  {
   "cell_type": "markdown",
   "id": "04d97c4d",
   "metadata": {},
   "source": [
    "# 6) What is the runtime of movies with a \"10.0\" rating released in \"2019\"?"
   ]
  },
  {
   "cell_type": "code",
   "execution_count": 69,
   "id": "09c06259",
   "metadata": {},
   "outputs": [
    {
     "data": {
      "application/vnd.jupyter.widget-view+json": {
       "model_id": "6f59ea6d9c614165b5632bf6b3a9f647",
       "version_major": 2,
       "version_minor": 0
      },
      "text/plain": [
       "VBox()"
      ]
     },
     "metadata": {},
     "output_type": "display_data"
    },
    {
     "data": {
      "application/vnd.jupyter.widget-view+json": {
       "model_id": "",
       "version_major": 2,
       "version_minor": 0
      },
      "text/plain": [
       "FloatProgress(value=0.0, bar_style='info', description='Progress:', layout=Layout(height='25px', width='50%'),…"
      ]
     },
     "metadata": {},
     "output_type": "display_data"
    },
    {
     "name": "stdout",
     "output_type": "stream",
     "text": [
      "+--------------------+-------------+--------------+\n",
      "|        primaryTitle|averageRating|runtimeMinutes|\n",
      "+--------------------+-------------+--------------+\n",
      "|Bu Can Var Oldugu...|         10.0|            87|\n",
      "|A Medicine for th...|         10.0|            15|\n",
      "|   L'Enfant Terrible|         10.0|           126|\n",
      "|    Love in Kilnerry|         10.0|           100|\n",
      "|The Twilight Zone...|         10.0|           180|\n",
      "|      A Grunt's Life|         10.0|           116|\n",
      "|              Kirket|         10.0|           132|\n",
      "+--------------------+-------------+--------------+"
     ]
    }
   ],
   "source": [
    "genres.createOrReplaceTempView('Genres')\n",
    "movie_ratings.createOrReplaceTempView(\"Ratings\")\n",
    "\n",
    "sqldf = spark.sql(\n",
    "    '''SELECT DISTINCT g.primaryTitle, r.averageRating, g.runtimeMinutes FROM Genres g \n",
    "    JOIN  Ratings r on g.tconst == r.tconst \n",
    "    WHERE g.startYear = 2019 AND r.averageRating = 10 AND g.titleType == \"movie\" AND g.runtimeMinutes != \"\\\\\\\\N\"\n",
    "    ''').show()"
   ]
  },
  {
   "cell_type": "code",
   "execution_count": null,
   "id": "484dbe6a",
   "metadata": {},
   "outputs": [],
   "source": []
  }
 ],
 "metadata": {
  "kernelspec": {
   "display_name": "PySpark",
   "language": "",
   "name": "pysparkkernel"
  },
  "language_info": {
   "codemirror_mode": {
    "name": "python",
    "version": 2
   },
   "mimetype": "text/x-python",
   "name": "pyspark",
   "pygments_lexer": "python2"
  }
 },
 "nbformat": 4,
 "nbformat_minor": 5
}
